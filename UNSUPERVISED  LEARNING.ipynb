{
 "cells": [
  {
   "cell_type": "markdown",
   "metadata": {
    "id": "jg9a27TbcCQ1"
   },
   "source": [
    "### Unsupervised Learning\n",
    "\n",
    "\n"
   ]
  },
  {
   "cell_type": "markdown",
   "metadata": {},
   "source": [
    "### ML EXAM 2"
   ]
  },
  {
   "cell_type": "markdown",
   "metadata": {},
   "source": [
    "### UNSUPERVISED LEARNING"
   ]
  },
  {
   "cell_type": "markdown",
   "metadata": {},
   "source": [
    "## import the required libraries"
   ]
  },
  {
   "cell_type": "code",
   "execution_count": null,
   "metadata": {
    "id": "RAIO8E5S_kHx"
   },
   "outputs": [],
   "source": [
    "import numpy as np\n",
    "import pandas as pd\n",
    "import seaborn as sns\n",
    "\n",
    "import matplotlib.pyplot as plt\n",
    "import seaborn as sns"
   ]
  },
  {
   "cell_type": "code",
   "execution_count": null,
   "metadata": {
    "colab": {
     "base_uri": "https://localhost:8080/"
    },
    "id": "8Go04I5KAGjU",
    "outputId": "fee7d263-c258-46ad-ff80-5f8bb38e0911"
   },
   "outputs": [],
   "source": [
    "df=pd.read_csv('credit_card.csv')\n",
    "df.shape"
   ]
  },
  {
   "cell_type": "code",
   "execution_count": null,
   "metadata": {
    "colab": {
     "base_uri": "https://localhost:8080/",
     "height": 270
    },
    "id": "_Z9_3quoBRdu",
    "outputId": "20692f02-76f6-4e14-a565-3b43d29a27e0"
   },
   "outputs": [],
   "source": [
    "# After reading the dataset, let’s check its top 5 rows using head() method to just see how the data looks.\n",
    "df.head()"
   ]
  },
  {
   "cell_type": "code",
   "execution_count": null,
   "metadata": {
    "colab": {
     "base_uri": "https://localhost:8080/"
    },
    "id": "0su705HHCSYk",
    "outputId": "47de33b2-0e3c-495b-8e00-eba5c102b76a"
   },
   "outputs": [],
   "source": [
    "df.dtypes"
   ]
  },
  {
   "cell_type": "markdown",
   "metadata": {
    "id": "cdzB90ijBhm2"
   },
   "source": [
    "###  **Q.1 Basic Primary Analysis**\n",
    "\n",
    "---\n"
   ]
  },
  {
   "cell_type": "code",
   "execution_count": null,
   "metadata": {
    "colab": {
     "base_uri": "https://localhost:8080/",
     "height": 52
    },
    "id": "DCh1FjWTBiO7",
    "outputId": "991e57e8-478f-442c-9a9d-e4d049a3e3d4"
   },
   "outputs": [],
   "source": [
    "sns.set_style(\"darkgrid\")\n",
    "plt.figure(figsize=(7,7))"
   ]
  },
  {
   "cell_type": "code",
   "execution_count": null,
   "metadata": {
    "colab": {
     "base_uri": "https://localhost:8080/",
     "height": 296
    },
    "id": "Gqie2JPkFyNE",
    "outputId": "9a1a953d-bd34-4180-8483-1a2682534c0c"
   },
   "outputs": [],
   "source": [
    "sns.scatterplot(x='BALANCE',y='PURCHASES_FREQUENCY',data=df)"
   ]
  },
  {
   "cell_type": "code",
   "execution_count": null,
   "metadata": {
    "colab": {
     "base_uri": "https://localhost:8080/"
    },
    "id": "5Yp9GY6emhPo",
    "outputId": "c87d101d-634d-4a63-ff40-5456e300a963"
   },
   "outputs": [],
   "source": [
    "df['CUST_ID'].describe()"
   ]
  },
  {
   "cell_type": "markdown",
   "metadata": {
    "id": "qCiRm1-PCqIz"
   },
   "source": [
    "###  **Q.2 Basic Exploratory Analysis**\n",
    "\n",
    "---\n",
    "\n",
    "**a. Missing Value Analysis**"
   ]
  },
  {
   "cell_type": "code",
   "execution_count": null,
   "metadata": {
    "colab": {
     "base_uri": "https://localhost:8080/"
    },
    "id": "ZuYUCt43Bnib",
    "outputId": "eea11763-c63e-4815-8678-382b2c2a0db7"
   },
   "outputs": [],
   "source": [
    "df.isnull().sum()"
   ]
  },
  {
   "cell_type": "code",
   "execution_count": null,
   "metadata": {
    "colab": {
     "base_uri": "https://localhost:8080/"
    },
    "id": "u9GFliqNDBXa",
    "outputId": "89b816f9-13cd-41f7-8d3a-bc3074b98269"
   },
   "outputs": [],
   "source": [
    "# to see what percentage of the values in the dataset were missing\n",
    "total = np.product(df.shape)\n",
    "count = df.isnull().sum()\n",
    "total_missing =count.sum()\n",
    "\n",
    "# percent of data that is missing\n",
    "(total_missing/total)*100"
   ]
  },
  {
   "cell_type": "markdown",
   "metadata": {
    "id": "2f-5nO_oDOMz"
   },
   "source": [
    "***Only 0.19% percent of data are missing from the dataset***"
   ]
  },
  {
   "cell_type": "markdown",
   "metadata": {
    "id": "O0W5a3CBEUkQ"
   },
   "source": [
    "**Handling Missing Values**"
   ]
  },
  {
   "cell_type": "code",
   "execution_count": null,
   "metadata": {
    "id": "sNsx33gkELBP"
   },
   "outputs": [],
   "source": [
    "# The column 'MINIMUM_PAYMENTS'  has 313 missing values, since it is a numerical variable the missing values in that column can be filled with mean \n",
    "#replacing  'MINIMUM_PAYMENTS'  column with mean value\n",
    "mean_value=df['MINIMUM_PAYMENTS'].mean()\n",
    "df['MINIMUM_PAYMENTS'].fillna(value=mean_value,inplace=True)"
   ]
  },
  {
   "cell_type": "code",
   "execution_count": null,
   "metadata": {
    "id": "1zcU45gpFnlH"
   },
   "outputs": [],
   "source": [
    "mean_value=df['CREDIT_LIMIT'].mean()\n",
    "df['CREDIT_LIMIT'].fillna(value=mean_value,inplace=True)"
   ]
  },
  {
   "cell_type": "markdown",
   "metadata": {
    "id": "ONMZDVf9GiZm"
   },
   "source": [
    "**b. Outlier Treatment with using Z-score method**"
   ]
  },
  {
   "cell_type": "code",
   "execution_count": null,
   "metadata": {
    "colab": {
     "base_uri": "https://localhost:8080/",
     "height": 334
    },
    "id": "nI9mbg4rGwKN",
    "outputId": "b3f89e19-98f4-4eb9-fcd3-f01f7571283d"
   },
   "outputs": [],
   "source": [
    "sns.boxplot(df.PURCHASES)\n",
    "plt.show()"
   ]
  },
  {
   "cell_type": "code",
   "execution_count": null,
   "metadata": {
    "colab": {
     "base_uri": "https://localhost:8080/",
     "height": 1000
    },
    "id": "dLI729mpSNVp",
    "outputId": "ef428fb6-e5be-4501-c793-8656d169f603"
   },
   "outputs": [],
   "source": [
    "f, ax = plt.subplots(3,3, figsize=(20,20))\n",
    "fig1= sns.distplot(df[\"PURCHASES_INSTALLMENTS_FREQUENCY\"],bins=10, ax= ax[0,0])\n",
    "fig2 = sns.distplot(df[\"CASH_ADVANCE_FREQUENCY\"],bins=10, ax=ax[0,1])\n",
    "fig3 = sns.distplot(df[\"CASH_ADVANCE_TRX\"],bins=10, ax= ax[0,2])\n",
    "fig4 = sns.distplot(df[\"PURCHASES_TRX\"],bins=10, ax=ax[1,0])\n",
    "fig5 = sns.distplot(df[\"CREDIT_LIMIT\"],bins=10, ax= ax[1,1])\n",
    "fig6 = sns.distplot(df[\"PAYMENTS\"],bins=10, ax=ax[1,2])\n",
    "fig7 = sns.distplot(df[\"MINIMUM_PAYMENTS\"],bins=10, ax= ax[2,0])\n",
    "fig8 = sns.distplot(df[\"PRC_FULL_PAYMENT\"],bins=10, ax=ax[2,1])\n",
    "fig9 = sns.distplot(df[\"TENURE\"],bins=10, ax=ax[2,2])\n"
   ]
  },
  {
   "cell_type": "code",
   "execution_count": null,
   "metadata": {
    "id": "O15jmIlII8q2"
   },
   "outputs": [],
   "source": [
    "from scipy.stats import zscore     # To Apply Zscore Treatment\n",
    "\n",
    "z = np.abs(zscore(df['PURCHASES'])) "
   ]
  },
  {
   "cell_type": "code",
   "execution_count": null,
   "metadata": {
    "colab": {
     "base_uri": "https://localhost:8080/"
    },
    "id": "GJfUhSMvJDiU",
    "outputId": "cd6bc98d-257b-4423-ee6f-50111f7fd350"
   },
   "outputs": [],
   "source": [
    "df['Zscore'] = z\n",
    "\n",
    "len(df[df['Zscore']>2])"
   ]
  },
  {
   "cell_type": "code",
   "execution_count": null,
   "metadata": {
    "colab": {
     "base_uri": "https://localhost:8080/"
    },
    "id": "5o5GNIKEJF5E",
    "outputId": "ee84cd4f-0223-4916-dd8e-60d374833a9a"
   },
   "outputs": [],
   "source": [
    "df_z = df[df['Zscore']<3]      # Store less then 3 Z-Score value To the Variable\n",
    "print('Removed outlier data set shape :-',df_z.shape  ) "
   ]
  },
  {
   "cell_type": "code",
   "execution_count": null,
   "metadata": {
    "colab": {
     "base_uri": "https://localhost:8080/"
    },
    "id": "85WDx7rXJXhL",
    "outputId": "5f7c24eb-b4c5-48e6-99dd-64f61f3797e9"
   },
   "outputs": [],
   "source": [
    "df.shape"
   ]
  },
  {
   "cell_type": "code",
   "execution_count": null,
   "metadata": {
    "colab": {
     "base_uri": "https://localhost:8080/"
    },
    "id": "2FEMc6FCKfxC",
    "outputId": "6dc8fab5-8a85-479c-cc1d-ea2e02330957"
   },
   "outputs": [],
   "source": [
    "df_z.shape # the outliers of the dataset has been dropped"
   ]
  },
  {
   "cell_type": "markdown",
   "metadata": {
    "id": "adUGjRKlTM5P"
   },
   "source": [
    "**c. Dealing with correlated variables**\n",
    "\n",
    "\n",
    "\n"
   ]
  },
  {
   "cell_type": "code",
   "execution_count": null,
   "metadata": {
    "colab": {
     "base_uri": "https://localhost:8080/",
     "height": 646
    },
    "id": "5EjJ43_PTLTg",
    "outputId": "eaeb214d-3725-479d-edc2-1c4b354113da"
   },
   "outputs": [],
   "source": [
    "df.drop('Zscore',axis=1,inplace=True)\n",
    "df.corr()"
   ]
  },
  {
   "cell_type": "code",
   "execution_count": null,
   "metadata": {
    "colab": {
     "base_uri": "https://localhost:8080/",
     "height": 807
    },
    "id": "7KOaqfXtT3ce",
    "outputId": "718ef1d6-59cf-4b2b-c2fb-053c6b212401"
   },
   "outputs": [],
   "source": [
    "f, ax = plt.subplots(figsize=(15,10 ))\n",
    "sns.heatmap(df.corr(),annot=True,cmap=\"YlGnBu\")"
   ]
  },
  {
   "cell_type": "markdown",
   "metadata": {
    "id": "L7taPYSHVSA0"
   },
   "source": [
    "***The Atrribute ONEOFF_PURCHASES and PURCHASES are highly correlated.hence one of the column is removed***"
   ]
  },
  {
   "cell_type": "code",
   "execution_count": null,
   "metadata": {
    "id": "uEPpHx8oVaVq"
   },
   "outputs": [],
   "source": [
    "df.drop('ONEOFF_PURCHASES',axis=1,inplace=True) # highly correlated attribute has been removed."
   ]
  },
  {
   "cell_type": "markdown",
   "metadata": {
    "id": "cLkE8BTyV38M"
   },
   "source": [
    "###  **Q.3 Dimensionality Reduction using PCA**\n",
    "\n",
    "---"
   ]
  },
  {
   "cell_type": "code",
   "execution_count": null,
   "metadata": {
    "id": "NaN_sWnLhYXS"
   },
   "outputs": [],
   "source": [
    "df_pca=df.copy()\n",
    "df_pca.drop('CUST_ID',axis=1,inplace=True)"
   ]
  },
  {
   "cell_type": "code",
   "execution_count": null,
   "metadata": {
    "id": "rbKtxGssWF7d"
   },
   "outputs": [],
   "source": [
    "from sklearn.preprocessing import StandardScaler\n",
    "\n",
    "df_st =  StandardScaler().fit_transform(df_pca)  \n"
   ]
  },
  {
   "cell_type": "code",
   "execution_count": null,
   "metadata": {
    "colab": {
     "base_uri": "https://localhost:8080/",
     "height": 270
    },
    "id": "LNopJRRAhxPC",
    "outputId": "895b001c-3523-4108-cbf5-418e59c996ac"
   },
   "outputs": [],
   "source": [
    "pd.DataFrame(df_st, columns=df_pca.columns).head(5)"
   ]
  },
  {
   "cell_type": "code",
   "execution_count": null,
   "metadata": {
    "colab": {
     "base_uri": "https://localhost:8080/"
    },
    "id": "u-h9utt3h4QB",
    "outputId": "f8d0302c-d23f-46d0-c440-b23cda3d3e2f"
   },
   "outputs": [],
   "source": [
    "from sklearn.decomposition import PCA\n",
    "pca = PCA(n_components=11)\n",
    "pca.fit(df_st)"
   ]
  },
  {
   "cell_type": "code",
   "execution_count": null,
   "metadata": {
    "colab": {
     "base_uri": "https://localhost:8080/"
    },
    "id": "u3z0ZAdQiRph",
    "outputId": "0bad5e33-5e95-49cf-88c4-68ee5bd7c2ec"
   },
   "outputs": [],
   "source": [
    "print(pca.explained_variance_)"
   ]
  },
  {
   "cell_type": "code",
   "execution_count": null,
   "metadata": {
    "colab": {
     "base_uri": "https://localhost:8080/"
    },
    "id": "o0n5nelLlZTD",
    "outputId": "12af0e85-2668-4cb6-c548-07758a64ee05"
   },
   "outputs": [],
   "source": [
    "print(pca.explained_variance_ratio_)"
   ]
  },
  {
   "cell_type": "code",
   "execution_count": null,
   "metadata": {
    "colab": {
     "base_uri": "https://localhost:8080/"
    },
    "id": "bNngwDuckauK",
    "outputId": "73a6714f-4d23-4fc5-e807-fac1c464c674"
   },
   "outputs": [],
   "source": [
    "print(\"variance by all the components=\",sum(pca.explained_variance_ratio_*100))"
   ]
  },
  {
   "cell_type": "markdown",
   "metadata": {
    "id": "pKhWXHexazfc"
   },
   "source": [
    "###  **Q.4 Optimum value of K for K-means clustering using elbow method**\n",
    "\n",
    "---"
   ]
  },
  {
   "cell_type": "code",
   "execution_count": null,
   "metadata": {
    "id": "zn2jSdFjbBHo"
   },
   "outputs": [],
   "source": [
    "df1=df.copy()\n",
    "df1.drop('CUST_ID',inplace=True,axis=1)"
   ]
  },
  {
   "cell_type": "code",
   "execution_count": null,
   "metadata": {
    "id": "yZ-_5DdsbFCp"
   },
   "outputs": [],
   "source": [
    "from sklearn.preprocessing import StandardScaler\n",
    "scale=StandardScaler().fit(df1)\n",
    "df1=scale.transform(df1)"
   ]
  },
  {
   "cell_type": "code",
   "execution_count": null,
   "metadata": {
    "colab": {
     "base_uri": "https://localhost:8080/",
     "height": 357
    },
    "id": "82exJH8pbVDf",
    "outputId": "41bfc737-034b-46c0-98b4-9a8968f66e06"
   },
   "outputs": [],
   "source": [
    "df_scaled=pd.DataFrame(df1)\n",
    "df_scaled.head()"
   ]
  },
  {
   "cell_type": "code",
   "execution_count": null,
   "metadata": {
    "colab": {
     "base_uri": "https://localhost:8080/",
     "height": 295
    },
    "id": "jU_MGunWbXGw",
    "outputId": "6377d444-08f7-493b-c9c8-bf0d51eb3276"
   },
   "outputs": [],
   "source": [
    "from sklearn.cluster import KMeans\n",
    "wcss = []\n",
    "for i in range(1,11):\n",
    "    kmeans = KMeans(n_clusters=i, init=\"k-means++\", random_state = 11)\n",
    "    kmeans.fit(df_scaled.iloc[:,3:])\n",
    "    wcss.append(kmeans.inertia_)\n",
    "plt.grid()\n",
    "sns.lineplot(x=range(1,11), y=wcss, color=\"orange\", marker =\"8\")\n",
    "plt.xlabel(\"K-Value\")\n",
    "plt.xticks(np.arange(11.5))\n",
    "plt.ylabel(\"WCSS\")\n",
    "plt.title(\"Elbow Graph\")\n",
    "plt.show()"
   ]
  },
  {
   "cell_type": "markdown",
   "metadata": {
    "id": "zVyZofQ3jiOO"
   },
   "source": [
    "***The optimal value of K in Elbow method is 3***"
   ]
  },
  {
   "cell_type": "markdown",
   "metadata": {
    "id": "0MTDlwZGbyaB"
   },
   "source": [
    "###  **Q.5 Optimum value of K for K-means clustering using Silhouette method**\n",
    "\n",
    "---"
   ]
  },
  {
   "cell_type": "code",
   "execution_count": null,
   "metadata": {
    "colab": {
     "base_uri": "https://localhost:8080/"
    },
    "id": "9RcReol2blSo",
    "outputId": "5b0afc6a-5102-49f2-ce40-0a900a3ae22e"
   },
   "outputs": [],
   "source": [
    "from sklearn.cluster import KMeans\n",
    "from sklearn.metrics import silhouette_score\n",
    "n_clusters=[4,5,6,7,8]\n",
    "for k in n_clusters:\n",
    "          cluster=KMeans(n_clusters=k,random_state=10)\n",
    "          predict=cluster.fit_predict(df_scaled)\n",
    "          score=silhouette_score(df_scaled,predict,random_state=10)\n",
    "          print(\"(for n_clusters={},silhouette_score  is {})\".format(k,score))"
   ]
  },
  {
   "cell_type": "markdown",
   "metadata": {
    "id": "ha20oqHHmVMS"
   },
   "source": [
    " sillhout score is maximum at k = 8. So, we can take 8 clusters."
   ]
  },
  {
   "cell_type": "code",
   "execution_count": null,
   "metadata": {},
   "outputs": [],
   "source": []
  }
 ],
 "metadata": {
  "colab": {
   "collapsed_sections": [],
   "name": "Part 1:Unsupervised learning.ipynb",
   "provenance": []
  },
  "kernelspec": {
   "display_name": "Python 3",
   "language": "python",
   "name": "python3"
  },
  "language_info": {
   "codemirror_mode": {
    "name": "ipython",
    "version": 3
   },
   "file_extension": ".py",
   "mimetype": "text/x-python",
   "name": "python",
   "nbconvert_exporter": "python",
   "pygments_lexer": "ipython3",
   "version": "3.8.5"
  }
 },
 "nbformat": 4,
 "nbformat_minor": 1
}
